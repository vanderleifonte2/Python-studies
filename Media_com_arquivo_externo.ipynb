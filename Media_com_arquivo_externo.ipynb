{
  "nbformat": 4,
  "nbformat_minor": 0,
  "metadata": {
    "colab": {
      "name": "Media_com_arquivo_externo.ipynb",
      "provenance": [],
      "collapsed_sections": [],
      "authorship_tag": "ABX9TyO2lKKPEbitrjbqMJW3jCT7",
      "include_colab_link": true
    },
    "kernelspec": {
      "name": "python3",
      "display_name": "Python 3"
    }
  },
  "cells": [
    {
      "cell_type": "markdown",
      "metadata": {
        "id": "view-in-github",
        "colab_type": "text"
      },
      "source": [
        "<a href=\"https://colab.research.google.com/github/vanderleifonte2/Python-studies/blob/master/Media_com_arquivo_externo.ipynb\" target=\"_parent\"><img src=\"https://colab.research.google.com/assets/colab-badge.svg\" alt=\"Open In Colab\"/></a>"
      ]
    },
    {
      "cell_type": "code",
      "metadata": {
        "id": "qxXieTM7EoAK",
        "colab_type": "code",
        "colab": {
          "base_uri": "https://localhost:8080/",
          "height": 35
        },
        "outputId": "2d914d61-d57e-4d42-f426-51a47223e2b3"
      },
      "source": [
        "%%writefile script.py\n",
        "\n",
        "import numpy as np\n",
        "X = np.random.normal(5, 5, 100)\n",
        "\n",
        "print('A media de X eh: {:.2f}'.format(X.mean()))\n"
      ],
      "execution_count": 1,
      "outputs": [
        {
          "output_type": "stream",
          "text": [
            "Writing script.py\n"
          ],
          "name": "stdout"
        }
      ]
    },
    {
      "cell_type": "code",
      "metadata": {
        "id": "WOLJwOMoVNON",
        "colab_type": "code",
        "colab": {
          "base_uri": "https://localhost:8080/",
          "height": 35
        },
        "outputId": "a2bac46b-ff11-48e9-f0c2-bf32cc1a91b2"
      },
      "source": [
        "!python script.py"
      ],
      "execution_count": 2,
      "outputs": [
        {
          "output_type": "stream",
          "text": [
            "A media de X eh: 5.33\n"
          ],
          "name": "stdout"
        }
      ]
    }
  ]
}